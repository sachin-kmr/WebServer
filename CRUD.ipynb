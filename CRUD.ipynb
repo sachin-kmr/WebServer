{
 "cells": [
  {
   "cell_type": "code",
   "execution_count": 11,
   "metadata": {
    "collapsed": false
   },
   "outputs": [],
   "source": [
    "from sqlalchemy import create_engine\n",
    "from sqlalchemy.orm import sessionmaker\n",
    "from database_setup import Base, Restaurant, MenuItem\n",
    "from employees_setup import Base, Employee, Address"
   ]
  },
  {
   "cell_type": "code",
   "execution_count": 19,
   "metadata": {
    "collapsed": true
   },
   "outputs": [],
   "source": [
    "engine = create_engine('sqlite:///restaurantmenu.db')\n",
    "\n",
    "Base.metadata.bind = engine\n",
    "DBSession = sessionmaker(bind = engine)\n",
    "session = DBSession()"
   ]
  },
  {
   "cell_type": "code",
   "execution_count": 3,
   "metadata": {
    "collapsed": false
   },
   "outputs": [],
   "source": [
    "#Create new Restaurant\n",
    "\n",
    "myFirstRestaurant = Restaurant(name = \"Piazza Palace\")\n",
    "\n",
    "session.add(myFirstRestaurant)\n",
    "session.commit()"
   ]
  },
  {
   "cell_type": "code",
   "execution_count": 4,
   "metadata": {
    "collapsed": false
   },
   "outputs": [
    {
     "data": {
      "text/plain": [
       "[<database_setup.Restaurant at 0x1082df1d0>]"
      ]
     },
     "execution_count": 4,
     "metadata": {},
     "output_type": "execute_result"
    }
   ],
   "source": [
    "session.query(Restaurant).all()"
   ]
  },
  {
   "cell_type": "code",
   "execution_count": 5,
   "metadata": {
    "collapsed": false
   },
   "outputs": [],
   "source": [
    "cheesepizza = MenuItem(name=\"Cheeze Pizza\",\n",
    "                      description=\"Made with all natural ingredients and fresh mozzarella\",\n",
    "                      course=\"Entree\", price=\"$8.99\", restaurant=myFirstRestaurant)\n",
    "session.add(cheesepizza)\n",
    "session.commit()"
   ]
  },
  {
   "cell_type": "code",
   "execution_count": 6,
   "metadata": {
    "collapsed": false
   },
   "outputs": [
    {
     "data": {
      "text/plain": [
       "[<database_setup.MenuItem at 0x108379cd0>]"
      ]
     },
     "execution_count": 6,
     "metadata": {},
     "output_type": "execute_result"
    }
   ],
   "source": [
    "session.query(MenuItem).all()"
   ]
  },
  {
   "cell_type": "code",
   "execution_count": 12,
   "metadata": {
    "collapsed": true
   },
   "outputs": [],
   "source": [
    "#Creating new Employee\n",
    "\n",
    "Eengine = create_engine('sqlite:///employeeData.db')\n",
    "\n",
    "Base.metadata.bind = Eengine\n",
    "EDBSession = sessionmaker(bind = engine)\n",
    "Esession = EDBSession()"
   ]
  },
  {
   "cell_type": "code",
   "execution_count": 15,
   "metadata": {
    "collapsed": false
   },
   "outputs": [],
   "source": [
    "newEmployee = Employee(name = \"Rebecca Allen\")\n",
    "rebeccaAddress = Address(address=\"512 Sycamore Road\",\n",
    "                        zip=\"02001\", employee=newEmployee)\n",
    "Esession.add(newEmployee)\n",
    "Esession.commit()"
   ]
  },
  {
   "cell_type": "code",
   "execution_count": 16,
   "metadata": {
    "collapsed": false
   },
   "outputs": [
    {
     "data": {
      "text/plain": [
       "[<employees_setup.Employee at 0x108476350>]"
      ]
     },
     "execution_count": 16,
     "metadata": {},
     "output_type": "execute_result"
    }
   ],
   "source": [
    "Esession.query(Employee).all()"
   ]
  },
  {
   "cell_type": "code",
   "execution_count": 21,
   "metadata": {
    "collapsed": false
   },
   "outputs": [
    {
     "data": {
      "text/plain": [
       "u'Piazza Palace'"
      ]
     },
     "execution_count": 21,
     "metadata": {},
     "output_type": "execute_result"
    }
   ],
   "source": [
    "firstResult = session.query(Restaurant).first()\n",
    "firstResult.name"
   ]
  },
  {
   "cell_type": "code",
   "execution_count": 22,
   "metadata": {
    "collapsed": false
   },
   "outputs": [
    {
     "data": {
      "text/plain": [
       "[<database_setup.Restaurant at 0x10863e290>,\n",
       " <database_setup.Restaurant at 0x10863e650>,\n",
       " <database_setup.Restaurant at 0x10863e6d0>,\n",
       " <database_setup.Restaurant at 0x10863e750>,\n",
       " <database_setup.Restaurant at 0x10863e7d0>,\n",
       " <database_setup.Restaurant at 0x10863e850>,\n",
       " <database_setup.Restaurant at 0x10863e8d0>,\n",
       " <database_setup.Restaurant at 0x10863e950>,\n",
       " <database_setup.Restaurant at 0x10863ea10>,\n",
       " <database_setup.Restaurant at 0x10863ead0>]"
      ]
     },
     "execution_count": 22,
     "metadata": {},
     "output_type": "execute_result"
    }
   ],
   "source": [
    "session.query(Restaurant).all()"
   ]
  },
  {
   "cell_type": "code",
   "execution_count": 32,
   "metadata": {
    "collapsed": false
   },
   "outputs": [
    {
     "name": "stdout",
     "output_type": "stream",
     "text": [
      "Cheeze Pizza\n",
      "Veggie Burger\n",
      "French Fries\n",
      "Chicken Burger\n",
      "Chocolate Cake\n",
      "Sirloin Burger\n",
      "Root Beer\n",
      "Iced Tea\n",
      "Grilled Cheese Sandwich\n",
      "Veggie Burger\n",
      "Chicken Stir Fry\n",
      "Peking Duck\n",
      "Spicy Tuna Roll\n",
      "Nepali Momo \n",
      "Beef Noodle Soup\n",
      "Ramen\n",
      "Pho\n",
      "Chinese Dumplings\n",
      "Gyoza\n",
      "Stinky Tofu\n",
      "Veggie Burger\n",
      "Tres Leches Cake\n",
      "Mushroom risotto\n",
      "Honey Boba Shaved Snow\n",
      "Cauliflower Manchurian\n",
      "Aloo Gobi Burrito\n",
      "Veggie Burger\n",
      "Shellfish Tower\n",
      "Chicken and Rice\n",
      "Mom's Spaghetti\n",
      "Choc Full O' Mint (Smitten's Fresh Mint Chip ice cream)\n",
      "Tonkatsu Ramen\n",
      "Lamb Curry\n",
      "Chicken Marsala\n",
      "Potstickers\n",
      "Nigiri Sampler\n",
      "Veggie Burger\n",
      "Chicken Fried Steak\n",
      "Boysenberry Sorbet\n",
      "Broiled salmon\n",
      "Morels on toast (seasonal)\n",
      "Tandoori Chicken\n",
      "Veggie Burger\n",
      "Spinach Ice Cream\n",
      "Super Burrito Al Pastor\n",
      "Cachapa\n",
      "Chantrelle Toast\n",
      "Guanciale Chawanmushi\n",
      "Lemon Curd Ice Cream Sandwich\n"
     ]
    }
   ],
   "source": [
    "items = session.query(MenuItem).all()\n",
    "\n",
    "for item in items:\n",
    "    print item.name"
   ]
  },
  {
   "cell_type": "code",
   "execution_count": 41,
   "metadata": {
    "collapsed": false
   },
   "outputs": [
    {
     "name": "stdout",
     "output_type": "stream",
     "text": [
      "2 $7.50 Urban Burger \n",
      "\n",
      "10 $5.99 Urban Burger \n",
      "\n",
      "21 $9.50 Panda Garden \n",
      "\n",
      "27 $6.80 Thyme for That Vegetarian Cuisine  \n",
      "\n",
      "37 $7.00 Andala's \n",
      "\n",
      "43 $9.50 Auntie Ann's Diner'  \n",
      "\n"
     ]
    }
   ],
   "source": [
    "#Update Query\n",
    "\n",
    "veggieBurgers = session.query(MenuItem).filter_by(name='Veggie Burger')\n",
    "for veggieBurger in veggieBurgers:\n",
    "    print veggieBurger.id, \n",
    "    print veggieBurger.price, \n",
    "    print veggieBurger.restaurant.name, \n",
    "    print \"\\n\""
   ]
  },
  {
   "cell_type": "code",
   "execution_count": 42,
   "metadata": {
    "collapsed": false
   },
   "outputs": [
    {
     "name": "stdout",
     "output_type": "stream",
     "text": [
      "$7.50\n"
     ]
    }
   ],
   "source": [
    "UrbanVeggieBurger = session.query(MenuItem).filter_by(id=2).one()\n",
    "print UrbanVeggieBurger.price\n",
    "UrbanVeggieBurger.price = '$2.99'\n",
    "session.add(UrbanVeggieBurger)\n",
    "session.commit()"
   ]
  },
  {
   "cell_type": "code",
   "execution_count": 44,
   "metadata": {
    "collapsed": false
   },
   "outputs": [
    {
     "name": "stdout",
     "output_type": "stream",
     "text": [
      "2 $2.99 Urban Burger \n",
      "\n",
      "10 $5.99 Urban Burger \n",
      "\n",
      "21 $9.50 Panda Garden \n",
      "\n",
      "27 $6.80 Thyme for That Vegetarian Cuisine  \n",
      "\n",
      "37 $7.00 Andala's \n",
      "\n",
      "43 $9.50 Auntie Ann's Diner'  \n",
      "\n"
     ]
    }
   ],
   "source": [
    "veggieBurgers = session.query(MenuItem).filter_by(name='Veggie Burger')\n",
    "for veggieBurger in veggieBurgers:\n",
    "    print veggieBurger.id, \n",
    "    print veggieBurger.price, \n",
    "    print veggieBurger.restaurant.name, \n",
    "    print \"\\n\""
   ]
  },
  {
   "cell_type": "code",
   "execution_count": 46,
   "metadata": {
    "collapsed": false
   },
   "outputs": [
    {
     "name": "stdout",
     "output_type": "stream",
     "text": [
      "Auntie Ann's Diner' \n"
     ]
    }
   ],
   "source": [
    "#Delete\n",
    "\n",
    "spinach = session.query(MenuItem).filter_by(name = 'Spinach Ice Cream').one()\n",
    "print spinach.restaurant.name\n",
    "\n",
    "session.delete(spinach)\n",
    "session.commit()"
   ]
  },
  {
   "cell_type": "code",
   "execution_count": 48,
   "metadata": {
    "collapsed": false
   },
   "outputs": [
    {
     "ename": "NoResultFound",
     "evalue": "No row was found for one()",
     "output_type": "error",
     "traceback": [
      "\u001b[0;31m----------------------------------------------------------------------\u001b[0m",
      "\u001b[0;31mNoResultFound\u001b[0m                        Traceback (most recent call last)",
      "\u001b[0;32m<ipython-input-48-ed3c4a8cd829>\u001b[0m in \u001b[0;36m<module>\u001b[0;34m()\u001b[0m\n\u001b[0;32m----> 1\u001b[0;31m \u001b[0mspinach\u001b[0m \u001b[0;34m=\u001b[0m \u001b[0msession\u001b[0m\u001b[0;34m.\u001b[0m\u001b[0mquery\u001b[0m\u001b[0;34m(\u001b[0m\u001b[0mMenuItem\u001b[0m\u001b[0;34m)\u001b[0m\u001b[0;34m.\u001b[0m\u001b[0mfilter_by\u001b[0m\u001b[0;34m(\u001b[0m\u001b[0mname\u001b[0m \u001b[0;34m=\u001b[0m \u001b[0;34m'Spinach Ice Cream'\u001b[0m\u001b[0;34m)\u001b[0m\u001b[0;34m.\u001b[0m\u001b[0mone\u001b[0m\u001b[0;34m(\u001b[0m\u001b[0;34m)\u001b[0m\u001b[0;34m\u001b[0m\u001b[0m\n\u001b[0m",
      "\u001b[0;32m/Users/sachin/Downloads/FSND-Virtual-Machine/vagrant/MyWorks/webdev/lib/python2.7/site-packages/sqlalchemy/orm/query.pyc\u001b[0m in \u001b[0;36mone\u001b[0;34m(self)\u001b[0m\n\u001b[1;32m   2760\u001b[0m         \u001b[0;32melse\u001b[0m\u001b[0;34m:\u001b[0m\u001b[0;34m\u001b[0m\u001b[0m\n\u001b[1;32m   2761\u001b[0m             \u001b[0;32mif\u001b[0m \u001b[0mret\u001b[0m \u001b[0;32mis\u001b[0m \u001b[0mNone\u001b[0m\u001b[0;34m:\u001b[0m\u001b[0;34m\u001b[0m\u001b[0m\n\u001b[0;32m-> 2762\u001b[0;31m                 \u001b[0;32mraise\u001b[0m \u001b[0morm_exc\u001b[0m\u001b[0;34m.\u001b[0m\u001b[0mNoResultFound\u001b[0m\u001b[0;34m(\u001b[0m\u001b[0;34m\"No row was found for one()\"\u001b[0m\u001b[0;34m)\u001b[0m\u001b[0;34m\u001b[0m\u001b[0m\n\u001b[0m\u001b[1;32m   2763\u001b[0m             \u001b[0;32mreturn\u001b[0m \u001b[0mret\u001b[0m\u001b[0;34m\u001b[0m\u001b[0m\n\u001b[1;32m   2764\u001b[0m \u001b[0;34m\u001b[0m\u001b[0m\n",
      "\u001b[0;31mNoResultFound\u001b[0m: No row was found for one()"
     ]
    }
   ],
   "source": [
    "spinach = session.query(MenuItem).filter_by(name = 'Spinach Ice Cream').one()"
   ]
  },
  {
   "cell_type": "code",
   "execution_count": null,
   "metadata": {
    "collapsed": true
   },
   "outputs": [],
   "source": []
  }
 ],
 "metadata": {
  "kernelspec": {
   "display_name": "Python 2",
   "language": "python",
   "name": "python2"
  },
  "language_info": {
   "codemirror_mode": {
    "name": "ipython",
    "version": 2
   },
   "file_extension": ".py",
   "mimetype": "text/x-python",
   "name": "python",
   "nbconvert_exporter": "python",
   "pygments_lexer": "ipython2",
   "version": "2.7.12"
  }
 },
 "nbformat": 4,
 "nbformat_minor": 2
}
